{
  "nbformat": 4,
  "nbformat_minor": 0,
  "metadata": {
    "colab": {
      "provenance": [],
      "include_colab_link": true
    },
    "kernelspec": {
      "name": "python3",
      "display_name": "Python 3"
    },
    "language_info": {
      "name": "python"
    }
  },
  "cells": [
    {
      "cell_type": "markdown",
      "metadata": {
        "id": "view-in-github",
        "colab_type": "text"
      },
      "source": [
        "<a href=\"https://colab.research.google.com/github/Bassalttt/RobustnessEvaluationOnIdsEvasionAttack/blob/main/adversrial_ml.ipynb\" target=\"_parent\"><img src=\"https://colab.research.google.com/assets/colab-badge.svg\" alt=\"Open In Colab\"/></a>"
      ]
    },
    {
      "cell_type": "markdown",
      "source": [
        "0 = attack  \n",
        "1 = normal"
      ],
      "metadata": {
        "id": "YY3B3TuwrZ6F"
      }
    },
    {
      "cell_type": "markdown",
      "source": [
        "### Initialization"
      ],
      "metadata": {
        "id": "WLzthl1CTXdQ"
      }
    },
    {
      "cell_type": "markdown",
      "source": [
        "Connect to Google Drive"
      ],
      "metadata": {
        "id": "8RoZ8aQDTg1w"
      }
    },
    {
      "cell_type": "code",
      "source": [
        "from google.colab import drive\n",
        "drive.mount('/content/drive')"
      ],
      "metadata": {
        "colab": {
          "base_uri": "https://localhost:8080/"
        },
        "id": "HdcHwfWIHH48",
        "outputId": "8106ebd4-4d74-4e98-dffe-09b71762ef68"
      },
      "execution_count": 1,
      "outputs": [
        {
          "output_type": "stream",
          "name": "stdout",
          "text": [
            "Mounted at /content/drive\n"
          ]
        }
      ]
    },
    {
      "cell_type": "markdown",
      "source": [
        "Import libraries"
      ],
      "metadata": {
        "id": "VZURmKocTh3d"
      }
    },
    {
      "cell_type": "code",
      "source": [
        "!pip install tqdm\n",
        "!pip install adversarial-robustness-toolbox"
      ],
      "metadata": {
        "id": "hvjHkKZL6Nq2",
        "colab": {
          "base_uri": "https://localhost:8080/"
        },
        "outputId": "e4d22454-af4e-433f-edfd-43c83b0b00c0"
      },
      "execution_count": 2,
      "outputs": [
        {
          "output_type": "stream",
          "name": "stdout",
          "text": [
            "Requirement already satisfied: tqdm in /usr/local/lib/python3.12/dist-packages (4.67.1)\n",
            "Collecting adversarial-robustness-toolbox\n",
            "  Downloading adversarial_robustness_toolbox-1.20.1-py3-none-any.whl.metadata (10 kB)\n",
            "Requirement already satisfied: numpy>=1.18.0 in /usr/local/lib/python3.12/dist-packages (from adversarial-robustness-toolbox) (2.0.2)\n",
            "Requirement already satisfied: scipy>=1.4.1 in /usr/local/lib/python3.12/dist-packages (from adversarial-robustness-toolbox) (1.16.2)\n",
            "Requirement already satisfied: scikit-learn>=0.22.2 in /usr/local/lib/python3.12/dist-packages (from adversarial-robustness-toolbox) (1.6.1)\n",
            "Requirement already satisfied: six in /usr/local/lib/python3.12/dist-packages (from adversarial-robustness-toolbox) (1.17.0)\n",
            "Requirement already satisfied: setuptools in /usr/local/lib/python3.12/dist-packages (from adversarial-robustness-toolbox) (75.2.0)\n",
            "Requirement already satisfied: tqdm in /usr/local/lib/python3.12/dist-packages (from adversarial-robustness-toolbox) (4.67.1)\n",
            "Requirement already satisfied: joblib>=1.2.0 in /usr/local/lib/python3.12/dist-packages (from scikit-learn>=0.22.2->adversarial-robustness-toolbox) (1.5.2)\n",
            "Requirement already satisfied: threadpoolctl>=3.1.0 in /usr/local/lib/python3.12/dist-packages (from scikit-learn>=0.22.2->adversarial-robustness-toolbox) (3.6.0)\n",
            "Downloading adversarial_robustness_toolbox-1.20.1-py3-none-any.whl (1.1 MB)\n",
            "\u001b[2K   \u001b[90m━━━━━━━━━━━━━━━━━━━━━━━━━━━━━━━━━━━━━━━━\u001b[0m \u001b[32m1.1/1.1 MB\u001b[0m \u001b[31m16.5 MB/s\u001b[0m eta \u001b[36m0:00:00\u001b[0m\n",
            "\u001b[?25hInstalling collected packages: adversarial-robustness-toolbox\n",
            "Successfully installed adversarial-robustness-toolbox-1.20.1\n"
          ]
        }
      ]
    },
    {
      "cell_type": "code",
      "source": [
        "# import libraries\n",
        "import numpy as np\n",
        "import pandas as pd\n",
        "import os\n",
        "import tensorflow as tf\n",
        "from tensorflow.keras import Input, Model\n",
        "from tensorflow.keras.layers import Lambda, Concatenate\n",
        "from tensorflow.keras.models import Sequential\n",
        "from tensorflow.keras.layers import Dense\n",
        "from tqdm import tqdm\n",
        "import matplotlib.pyplot as plt\n",
        "\n",
        "# importing cleverhans - an adversarial example library\n",
        "# from cleverhans.attacks import SaliencyMapMethod\n",
        "# from cleverhans.attacks_tf import jacobian_graph\n",
        "\n",
        "# Libraries relevant to performance metrics\n",
        "from sklearn.metrics import roc_curve, auc, confusion_matrix, classification_report, accuracy_score, precision_score, recall_score, f1_score\n",
        "from sklearn.metrics import ConfusionMatrixDisplay\n",
        "from sklearn.model_selection import StratifiedKFold\n",
        "from sklearn.preprocessing import MinMaxScaler\n",
        "from sklearn.model_selection import train_test_split\n",
        "\n",
        "# Importing the Keras libraries and packages\n",
        "# from keras.models import Sequential\n",
        "# from keras.layers import Dense\n",
        "from keras.callbacks import EarlyStopping"
      ],
      "metadata": {
        "id": "jktuNwhkHwF4"
      },
      "execution_count": 3,
      "outputs": []
    },
    {
      "cell_type": "markdown",
      "source": [
        "Authors"
      ],
      "metadata": {
        "id": "IwjflfmETnC7"
      }
    },
    {
      "cell_type": "code",
      "source": [
        "__author__ = \"Md. Ahsan Ayub\"\n",
        "__license__ = \"GPL\"\n",
        "__credits__ = [\"Ayub, Md. Ahsan\", \"Johnson, Will\",\n",
        "               \"Siraj, Ambareen\"]\n",
        "__maintainer__ = \"Md. Ahsan Ayub\"\n",
        "__email__ = \"mayub42@students.tntech.edu\"\n",
        "__status__ = \"Prototype\""
      ],
      "metadata": {
        "id": "N9DJkfNCM2ea"
      },
      "execution_count": 4,
      "outputs": []
    },
    {
      "cell_type": "markdown",
      "source": [
        "### Models"
      ],
      "metadata": {
        "id": "CEIUtRF8TpMq"
      }
    },
    {
      "cell_type": "code",
      "execution_count": 5,
      "metadata": {
        "id": "vS_ndpvYI8la"
      },
      "outputs": [],
      "source": [
        "# Generate a multilayer perceptron  model or ANN\n",
        "def mlp_model(input_dim: int, y: np.ndarray):\n",
        "    n_classes = len(np.unique(y))\n",
        "\n",
        "    model = Sequential()\n",
        "    model.add(Dense(units=round(input_dim/2),\n",
        "                    activation='relu',\n",
        "                    input_shape=(input_dim,)))\n",
        "    model.add(Dense(units=round(input_dim/2), activation='relu'))\n",
        "\n",
        "    if n_classes > 2:  # multiclass with integer labels\n",
        "        model.add(Dense(units=n_classes, activation='softmax'))\n",
        "        loss = 'sparse_categorical_crossentropy'  # y must be int labels 0..C-1\n",
        "    else:  # binary\n",
        "        model.add(Dense(units=1, activation='sigmoid'))\n",
        "        loss = 'binary_crossentropy'  # y should be 0/1, float or int\n",
        "\n",
        "    model.compile(optimizer='adam', loss=loss, metrics=['accuracy'])\n",
        "    print(model.summary())\n",
        "\n",
        "    return model"
      ]
    },
    {
      "cell_type": "code",
      "source": [
        "def mlp_model_train(X, Y, val_split, batch_size, epochs_count):\n",
        "    # Callback to stop if validation loss does not decrease\n",
        "    callbacks = [EarlyStopping(monitor='val_loss', patience=2)]\n",
        "\n",
        "    # Fitting the ANN to the Training set\n",
        "    history = model.fit(X, Y,\n",
        "                   callbacks=callbacks,\n",
        "                   validation_split=val_split,\n",
        "                   batch_size = batch_size,\n",
        "                   epochs = epochs_count,\n",
        "                   shuffle=True)\n",
        "    # model.fit(X_train, Y_train, epochs=EPOCHS, batch_size=32, validation_data=(X_val, Y_val))\n",
        "\n",
        "\n",
        "    print(history.history)\n",
        "    print(model.summary())\n",
        "    return history"
      ],
      "metadata": {
        "id": "OuXtxDOpLMQz"
      },
      "execution_count": 6,
      "outputs": []
    },
    {
      "cell_type": "code",
      "source": [
        "# Evaluate the multilayer perceptron  model or ANN during test time\n",
        "def mlp_model_eval(X, Y, history, flag):\n",
        "    # Predicting the results given instances X\n",
        "    # Y_pred = model.predict_classes(X)\n",
        "    # Y_pred = (Y_pred > 0.5)\n",
        "    Y_pred = (model.predict(X) > 0.5).astype(\"int32\")\n",
        "\n",
        "    # Breakdown of statistical measure based on classes\n",
        "    print(\"classification_report\\n\", classification_report(Y, Y_pred, digits=4))\n",
        "\n",
        "    # Making the cufusion Matrix\n",
        "    cm = confusion_matrix(Y, Y_pred)\n",
        "    print(\"Confusion Matrix:\\n\", cm)\n",
        "    labels = np.unique(np.concatenate([Y, Y_pred]))\n",
        "    disp = ConfusionMatrixDisplay(confusion_matrix=cm)\n",
        "    print(\"labels = \", disp.display_labels)  # labels actually used\n",
        "    disp.plot(cmap='Blues')  # You can use other colormaps: 'Reds', 'Greens', etc.\n",
        "    plt.show()\n",
        "    print(\"Accuracy: \", accuracy_score(Y, Y_pred))\n",
        "\n",
        "    if(len(np.unique(Y))) == 2:\n",
        "        print(\"F1: \", f1_score(Y, Y_pred, average='binary'))\n",
        "        print(\"Precison: \", precision_score(Y, Y_pred, average='binary'))\n",
        "        print(\"Recall: \", recall_score(Y, Y_pred, average='binary'))\n",
        "    else:\n",
        "        f1_scores = f1_score(Y, Y_pred, average=None)\n",
        "        print(\"F1: \", np.mean(f1_scores))\n",
        "        precision_scores = precision_score(Y, Y_pred, average=None)\n",
        "        print(\"Precison: \", np.mean(precision_scores))\n",
        "        recall_scores = recall_score(Y, Y_pred, average=None)\n",
        "        print(\"Recall: \", np.mean(recall_scores))\n",
        "    return Y_pred"
      ],
      "metadata": {
        "id": "v1Z5nCGkM6o8"
      },
      "execution_count": 7,
      "outputs": []
    },
    {
      "cell_type": "markdown",
      "source": [
        "### Plots"
      ],
      "metadata": {
        "id": "thxqE8yNVsh-"
      }
    },
    {
      "cell_type": "markdown",
      "source": [
        "Plot accuracies over epochs"
      ],
      "metadata": {
        "id": "kXBrrxUCXHFK"
      }
    },
    {
      "cell_type": "code",
      "source": [
        "def plot_acc(Y, history, flag):\n",
        "    # Intilization of the figure\n",
        "    myFig = plt.figure(figsize=[12,10])\n",
        "\n",
        "    plt.plot(history.history['accuracy'], linestyle = ':',lw = 2, alpha=0.8, color = 'black')\n",
        "    plt.plot(history.history['val_accuracy'], linestyle = '--',lw = 2, alpha=0.8, color = 'black')\n",
        "    plt.title('Accuracy over Epoch', fontsize=20, weight='bold')\n",
        "    plt.ylabel('Accuracy', fontsize=18, weight='bold')\n",
        "    plt.xlabel('Epoch', fontsize=18, weight='bold')\n",
        "    plt.legend(['Train', 'Validation'], loc='lower right', fontsize=14)\n",
        "    plt.xticks(ticks=range(0, len(history.history['accuracy'])))\n",
        "\n",
        "    plt.yticks(fontsize=16)\n",
        "    plt.show()\n",
        "\n",
        "    if(len(np.unique(Y))) == 2:\n",
        "        if(flag == 1): #Regular\n",
        "            fileName = 'ANN_Accuracy_over_Epoch_Binary_Classification_TRAbIDRegular.eps'\n",
        "        else: #Adversarial\n",
        "            fileName = 'ANN_Accuracy_over_Epoch_Binary_Classification_TRAbID_Adversarial.eps'\n",
        "    else:\n",
        "        if(flag == 1): #Regular\n",
        "            fileName = 'ANN_Accuracy_over_Epoch_Multiclass_Classification_TRAbID_Regular.eps'\n",
        "        else: #Adversarial\n",
        "            fileName = 'ANN_Accuracy_over_Epoch_Multiclass_Classification_TRAbID_Adversarial.eps'\n",
        "\n",
        "    # Saving the figure\n",
        "    myFig.savefig(fileName, format='eps', dpi=1200)"
      ],
      "metadata": {
        "id": "h7osdgdoVvF8"
      },
      "execution_count": 8,
      "outputs": []
    },
    {
      "cell_type": "markdown",
      "source": [
        "Plot losses over epochs"
      ],
      "metadata": {
        "id": "-BbqKEHuXZYS"
      }
    },
    {
      "cell_type": "code",
      "source": [
        "def plot_loss(Y, history, flag):\n",
        "    # Clear figure\n",
        "    plt.clf()\n",
        "    myFig = plt.figure(figsize=[12,10])\n",
        "\n",
        "    plt.plot(history.history['loss'], linestyle = ':',lw = 2, alpha=0.8, color = 'black')\n",
        "    plt.plot(history.history['val_loss'], linestyle = '--',lw = 2, alpha=0.8, color = 'black')\n",
        "    plt.title('Loss over Epoch', fontsize=20, weight='bold')\n",
        "    plt.ylabel('Loss', fontsize=18, weight='bold')\n",
        "    plt.xlabel('Epoch', fontsize=18, weight='bold')\n",
        "    plt.legend(['Train', 'Validation'], loc='upper right', fontsize=14)\n",
        "    plt.xticks(ticks=range(0, len(history.history['loss'])))\n",
        "\n",
        "    plt.yticks(fontsize=16)\n",
        "    plt.show()\n",
        "\n",
        "    if(len(np.unique(Y))) == 2:\n",
        "        if(flag == 1): #Regular\n",
        "            fileName = 'ANN_Loss_over_Epoch_Binary_Classification_TRAbID_Regular.eps'\n",
        "        else: #Adversarial\n",
        "            fileName = 'ANN_Loss_over_Epoch_Binary_Classification_TRAbID_Adversarial.eps'\n",
        "    else:\n",
        "        if(flag == 1): #Regular\n",
        "            fileName = 'ANN_Loss_over_Epoch_Multiclass_Classification_TRAbID_Regular.eps'\n",
        "        else: #Adversarial\n",
        "            fileName = 'ANN_Loss_over_Epoch_Multiclass_Classification_TRAbID_Adversarial.eps'\n",
        "\n",
        "    # Saving the figure\n",
        "    myFig.savefig(fileName, format='eps', dpi=1200)"
      ],
      "metadata": {
        "id": "pYXZ5fc-Xa4T"
      },
      "execution_count": 9,
      "outputs": []
    },
    {
      "cell_type": "markdown",
      "source": [
        "Plot ROC curve"
      ],
      "metadata": {
        "id": "icYrgee4XiKx"
      }
    },
    {
      "cell_type": "code",
      "source": [
        "def plot_roc(Y_test, Y_pred, flag):\n",
        "    # Clear figure\n",
        "    plt.clf()\n",
        "    myFig = plt.figure(figsize=[12,10])\n",
        "\n",
        "    if len(np.unique(Y_test)) == 2:\n",
        "        fpr, tpr, _ = roc_curve(Y_test, Y_pred)\n",
        "        plt.plot(fpr, tpr, color='black',\n",
        "                label=r'ROC (AUC = %0.3f)' % (auc(fpr, tpr)),\n",
        "                lw=2, alpha=0.8)\n",
        "\n",
        "        plt.xlim([-0.05, 1.05])\n",
        "        plt.ylim([-0.05, 1.05])\n",
        "        plt.xlabel('False Positive Rate', fontsize=18, weight='bold')\n",
        "        plt.ylabel('True Positive Rate', fontsize=18, weight='bold')\n",
        "        plt.title('Receiver Operating Characteristic (ROC) Curve', fontsize=20, fontweight='bold')\n",
        "        plt.legend(loc=\"lower right\",fontsize=14)\n",
        "        plt.xticks(fontsize=16)\n",
        "        plt.yticks(fontsize=16)\n",
        "        plt.show()\n",
        "\n",
        "        if(flag == 1): #Regular\n",
        "            fileName = 'ANN_Binary_Classification_ROC_TRAbID_Regular.eps'\n",
        "        else: #Adversarial\n",
        "            fileName = 'ANN_Binary_Classification_ROC_TRAbID_Adversarial.eps'\n",
        "\n",
        "        # Saving the figure\n",
        "        myFig.savefig(fileName, format='eps', dpi=1200)"
      ],
      "metadata": {
        "id": "-3EfJpA5Xkvc"
      },
      "execution_count": 10,
      "outputs": []
    },
    {
      "cell_type": "markdown",
      "source": [
        "### File path"
      ],
      "metadata": {
        "id": "iPSlDCqZPjT5"
      }
    },
    {
      "cell_type": "markdown",
      "source": [
        "Yung-Lin"
      ],
      "metadata": {
        "id": "eEZyfjfePmju"
      }
    },
    {
      "cell_type": "code",
      "source": [
        "project_path = \"/content/drive/MyDrive/2025-Fall/14795-AIAppInfoSec/\"\n",
        "trabID_dataset_path = os.path.join(project_path, \"TRAbID2017_dataset.arff\")\n",
        "trabID_y_path = os.path.join(project_path, \"TRAbID2017_dataset_Y_class.csv\")\n",
        "# cicids2017_path = os.path.join(project_path, \"CICIDS2017_dataset.csv\")\n",
        "# cicids2017_improved_path = os.path.join(project_path, \".csv\")"
      ],
      "metadata": {
        "id": "LbeoLisRHX9W"
      },
      "execution_count": 11,
      "outputs": []
    },
    {
      "cell_type": "markdown",
      "source": [
        "Annie"
      ],
      "metadata": {
        "id": "DhDMscU6PoKr"
      }
    },
    {
      "cell_type": "code",
      "source": [
        "project_path = \"/content/drive/MyDrive/Secure AI Project/14795-AIAppInfoSec/\" # your project path\n",
        "trabID_dataset_path = os.path.join(project_path, \"TRAbID2017_dataset.arff\")\n",
        "trabID_y_path = os.path.join(project_path, \"TRAbID2017_dataset_Y_class.csv\")\n",
        "# cicids2017_path = os.path.join(project_path, \"CICIDS2017_dataset.csv\")"
      ],
      "metadata": {
        "id": "ne1Z1JWaPpUg"
      },
      "execution_count": null,
      "outputs": []
    },
    {
      "cell_type": "markdown",
      "source": [
        "### Main"
      ],
      "metadata": {
        "id": "3x4btPplPvtv"
      }
    },
    {
      "cell_type": "code",
      "source": [
        "#importing the data set\n",
        "# print(tf.executing_eagerly())\n",
        "# ==== Data processing for CICIDS 2017 ====\n",
        "'''dataset = pd.read_csv(cicids2017_path)\n",
        "print(dataset.head())\n",
        "print(dataset.shape)\n",
        "\n",
        "# Some manual processing on the dataframe\n",
        "dataset = dataset.dropna()\n",
        "dataset = dataset.drop(['Flow_ID', '_Source_IP', '_Destination_IP', '_Timestamp'], axis = 1)\n",
        "dataset['Flow_Bytes/s'] = dataset['Flow_Bytes/s'].astype(float)\n",
        "dataset['_Flow_Packets/s'] = dataset['_Flow_Packets/s'].astype(float)\n",
        "\n",
        "# Creating X and Y from the dataset\n",
        "from sklearn import preprocessing\n",
        "le = preprocessing.LabelEncoder()\n",
        "le.fit(dataset['Label'])\n",
        "Y_attack = le.transform(dataset['Label'])\n",
        "print(list(le.classes_))\n",
        "print(np.unique(Y_attack))\n",
        "Y_class = dataset.iloc[:,-1].values\n",
        "X = dataset.iloc[:,0:80].values\n",
        "X = X.astype(int)'''\n",
        "\n",
        "# ==== Data processing for TRAbID 2017 ====\n",
        "\n",
        "from scipy.io import arff\n",
        "data = arff.loadarff(trabID_dataset_path)\n",
        "dataset = pd.DataFrame(data[0])\n",
        "print(dataset.head())\n",
        "print(dataset.shape)\n",
        "\n",
        "\n",
        "# Creating X and Y from the dataset\n",
        "X = dataset.iloc[:,0:43].values\n",
        "Y_class = pd.read_csv(trabID_y_path)\n",
        "Y_class = Y_class.iloc[:,:].values\n",
        "\n",
        "# Performing scale data\n",
        "scaler = MinMaxScaler().fit(X)\n",
        "X_scaled = np.array(scaler.transform(X))\n",
        "\n",
        "X_train, X_test, Y_train, Y_test = train_test_split(X_scaled, Y_class, test_size = 0.2, random_state = 42, stratify=Y_class)\n",
        "\n",
        "print(\"Data Processing has been performed.\")\n",
        "\n",
        "# Tensorflow  placeholder  variables\n",
        "# X_placeholder = tf.compat.v1.placeholder(tf.float32 , shape=(None , X_train.shape[1]))\n",
        "# Y_placeholder = tf.compat.v1.placeholder(tf.float32 , shape=(None))\n",
        "\n",
        "# tf.compat.v1.set_random_seed(42)\n",
        "# model = mlp_model(X_train, Y_train)\n",
        "# sess = tf.compat.v1.Session()\n",
        "# init = tf.compat.v1.global_variables_initializer()\n",
        "# sess.run(init)\n",
        "tf.random.set_seed(42)\n",
        "model = mlp_model(X_train.shape[1], Y_train)\n",
        "\n",
        "predictions = model(X_test)\n",
        "print('Prediction: ', predictions)"
      ],
      "metadata": {
        "colab": {
          "base_uri": "https://localhost:8080/",
          "height": 959
        },
        "id": "GvqTRvMtM-lt",
        "outputId": "a5c1624e-7034-417f-87dd-f8d4e6d1d449",
        "collapsed": true
      },
      "execution_count": 12,
      "outputs": [
        {
          "output_type": "stream",
          "name": "stdout",
          "text": [
            "     ip_len     ip_id  ip_DF  ip_proto  ip_checksum  udp_sport  udp_dport  \\\n",
            "0 -0.991781  0.725856   -1.0    -0.375    -0.614487       -1.0       -1.0   \n",
            "1 -0.983562 -0.903838    1.0    -0.375     0.345024       -1.0       -1.0   \n",
            "2 -0.991781 -0.331533   -1.0    -0.375     0.458724       -1.0       -1.0   \n",
            "3 -0.983562 -0.232197    1.0    -0.375    -0.325794       -1.0       -1.0   \n",
            "4 -0.991781 -0.279805   -1.0    -0.375     0.336630       -1.0       -1.0   \n",
            "\n",
            "   udp_len  udp_chk  icmp_type  ...  num_fin_dst_src  num_ack_src_dst  \\\n",
            "0     -1.0     -1.0       -1.0  ...        -1.000000        -1.000000   \n",
            "1     -1.0     -1.0       -1.0  ...        -0.999954        -0.983809   \n",
            "2     -1.0     -1.0       -1.0  ...        -1.000000        -0.999970   \n",
            "3     -1.0     -1.0       -1.0  ...        -0.999969        -0.977915   \n",
            "4     -1.0     -1.0       -1.0  ...        -1.000000        -0.999970   \n",
            "\n",
            "   num_ack_dst_src  num_syn_src_dst  num_syn_dst_src  num_rst_src_dst  \\\n",
            "0        -0.999879        -1.000000        -1.000000             -1.0   \n",
            "1        -0.976612        -0.999905        -0.999916             -1.0   \n",
            "2        -0.977129        -0.999976        -1.000000             -1.0   \n",
            "3        -0.968078        -0.999929        -0.999937             -1.0   \n",
            "4        -0.984024        -0.999976        -1.000000             -1.0   \n",
            "\n",
            "   num_rst_dst_src  first_packet  first_serv_packet      class  \n",
            "0        -0.999904          -1.0               -1.0  b'attack'  \n",
            "1        -1.000000          -1.0               -1.0  b'normal'  \n",
            "2        -0.981970          -1.0               -1.0  b'attack'  \n",
            "3        -1.000000          -1.0               -1.0  b'normal'  \n",
            "4        -0.987398          -1.0               -1.0  b'attack'  \n",
            "\n",
            "[5 rows x 44 columns]\n",
            "(18314, 44)\n",
            "Data Processing has been performed.\n"
          ]
        },
        {
          "output_type": "stream",
          "name": "stderr",
          "text": [
            "/usr/local/lib/python3.12/dist-packages/keras/src/layers/core/dense.py:93: UserWarning: Do not pass an `input_shape`/`input_dim` argument to a layer. When using Sequential models, prefer using an `Input(shape)` object as the first layer in the model instead.\n",
            "  super().__init__(activity_regularizer=activity_regularizer, **kwargs)\n"
          ]
        },
        {
          "output_type": "display_data",
          "data": {
            "text/plain": [
              "\u001b[1mModel: \"sequential\"\u001b[0m\n"
            ],
            "text/html": [
              "<pre style=\"white-space:pre;overflow-x:auto;line-height:normal;font-family:Menlo,'DejaVu Sans Mono',consolas,'Courier New',monospace\"><span style=\"font-weight: bold\">Model: \"sequential\"</span>\n",
              "</pre>\n"
            ]
          },
          "metadata": {}
        },
        {
          "output_type": "display_data",
          "data": {
            "text/plain": [
              "┏━━━━━━━━━━━━━━━━━━━━━━━━━━━━━━━━━┳━━━━━━━━━━━━━━━━━━━━━━━━┳━━━━━━━━━━━━━━━┓\n",
              "┃\u001b[1m \u001b[0m\u001b[1mLayer (type)                   \u001b[0m\u001b[1m \u001b[0m┃\u001b[1m \u001b[0m\u001b[1mOutput Shape          \u001b[0m\u001b[1m \u001b[0m┃\u001b[1m \u001b[0m\u001b[1m      Param #\u001b[0m\u001b[1m \u001b[0m┃\n",
              "┡━━━━━━━━━━━━━━━━━━━━━━━━━━━━━━━━━╇━━━━━━━━━━━━━━━━━━━━━━━━╇━━━━━━━━━━━━━━━┩\n",
              "│ dense (\u001b[38;5;33mDense\u001b[0m)                   │ (\u001b[38;5;45mNone\u001b[0m, \u001b[38;5;34m22\u001b[0m)             │           \u001b[38;5;34m968\u001b[0m │\n",
              "├─────────────────────────────────┼────────────────────────┼───────────────┤\n",
              "│ dense_1 (\u001b[38;5;33mDense\u001b[0m)                 │ (\u001b[38;5;45mNone\u001b[0m, \u001b[38;5;34m22\u001b[0m)             │           \u001b[38;5;34m506\u001b[0m │\n",
              "├─────────────────────────────────┼────────────────────────┼───────────────┤\n",
              "│ dense_2 (\u001b[38;5;33mDense\u001b[0m)                 │ (\u001b[38;5;45mNone\u001b[0m, \u001b[38;5;34m1\u001b[0m)              │            \u001b[38;5;34m23\u001b[0m │\n",
              "└─────────────────────────────────┴────────────────────────┴───────────────┘\n"
            ],
            "text/html": [
              "<pre style=\"white-space:pre;overflow-x:auto;line-height:normal;font-family:Menlo,'DejaVu Sans Mono',consolas,'Courier New',monospace\">┏━━━━━━━━━━━━━━━━━━━━━━━━━━━━━━━━━┳━━━━━━━━━━━━━━━━━━━━━━━━┳━━━━━━━━━━━━━━━┓\n",
              "┃<span style=\"font-weight: bold\"> Layer (type)                    </span>┃<span style=\"font-weight: bold\"> Output Shape           </span>┃<span style=\"font-weight: bold\">       Param # </span>┃\n",
              "┡━━━━━━━━━━━━━━━━━━━━━━━━━━━━━━━━━╇━━━━━━━━━━━━━━━━━━━━━━━━╇━━━━━━━━━━━━━━━┩\n",
              "│ dense (<span style=\"color: #0087ff; text-decoration-color: #0087ff\">Dense</span>)                   │ (<span style=\"color: #00d7ff; text-decoration-color: #00d7ff\">None</span>, <span style=\"color: #00af00; text-decoration-color: #00af00\">22</span>)             │           <span style=\"color: #00af00; text-decoration-color: #00af00\">968</span> │\n",
              "├─────────────────────────────────┼────────────────────────┼───────────────┤\n",
              "│ dense_1 (<span style=\"color: #0087ff; text-decoration-color: #0087ff\">Dense</span>)                 │ (<span style=\"color: #00d7ff; text-decoration-color: #00d7ff\">None</span>, <span style=\"color: #00af00; text-decoration-color: #00af00\">22</span>)             │           <span style=\"color: #00af00; text-decoration-color: #00af00\">506</span> │\n",
              "├─────────────────────────────────┼────────────────────────┼───────────────┤\n",
              "│ dense_2 (<span style=\"color: #0087ff; text-decoration-color: #0087ff\">Dense</span>)                 │ (<span style=\"color: #00d7ff; text-decoration-color: #00d7ff\">None</span>, <span style=\"color: #00af00; text-decoration-color: #00af00\">1</span>)              │            <span style=\"color: #00af00; text-decoration-color: #00af00\">23</span> │\n",
              "└─────────────────────────────────┴────────────────────────┴───────────────┘\n",
              "</pre>\n"
            ]
          },
          "metadata": {}
        },
        {
          "output_type": "display_data",
          "data": {
            "text/plain": [
              "\u001b[1m Total params: \u001b[0m\u001b[38;5;34m1,497\u001b[0m (5.85 KB)\n"
            ],
            "text/html": [
              "<pre style=\"white-space:pre;overflow-x:auto;line-height:normal;font-family:Menlo,'DejaVu Sans Mono',consolas,'Courier New',monospace\"><span style=\"font-weight: bold\"> Total params: </span><span style=\"color: #00af00; text-decoration-color: #00af00\">1,497</span> (5.85 KB)\n",
              "</pre>\n"
            ]
          },
          "metadata": {}
        },
        {
          "output_type": "display_data",
          "data": {
            "text/plain": [
              "\u001b[1m Trainable params: \u001b[0m\u001b[38;5;34m1,497\u001b[0m (5.85 KB)\n"
            ],
            "text/html": [
              "<pre style=\"white-space:pre;overflow-x:auto;line-height:normal;font-family:Menlo,'DejaVu Sans Mono',consolas,'Courier New',monospace\"><span style=\"font-weight: bold\"> Trainable params: </span><span style=\"color: #00af00; text-decoration-color: #00af00\">1,497</span> (5.85 KB)\n",
              "</pre>\n"
            ]
          },
          "metadata": {}
        },
        {
          "output_type": "display_data",
          "data": {
            "text/plain": [
              "\u001b[1m Non-trainable params: \u001b[0m\u001b[38;5;34m0\u001b[0m (0.00 B)\n"
            ],
            "text/html": [
              "<pre style=\"white-space:pre;overflow-x:auto;line-height:normal;font-family:Menlo,'DejaVu Sans Mono',consolas,'Courier New',monospace\"><span style=\"font-weight: bold\"> Non-trainable params: </span><span style=\"color: #00af00; text-decoration-color: #00af00\">0</span> (0.00 B)\n",
              "</pre>\n"
            ]
          },
          "metadata": {}
        },
        {
          "output_type": "stream",
          "name": "stdout",
          "text": [
            "None\n",
            "Prediction:  tf.Tensor(\n",
            "[[0.5400742 ]\n",
            " [0.5221813 ]\n",
            " [0.5370211 ]\n",
            " ...\n",
            " [0.50718486]\n",
            " [0.5480392 ]\n",
            " [0.6075057 ]], shape=(3663, 1), dtype=float32)\n"
          ]
        }
      ]
    },
    {
      "cell_type": "code",
      "source": [
        "# ============== Training the model ==============\n",
        "print(\"X_train: \\n\", type(X_train), X_train)\n",
        "print(\"Y_train: \\n\", type(Y_train), Y_train)\n",
        "history = mlp_model_train(X_train, Y_train,\n",
        "                0.1, # Validation Split\n",
        "                64, # Batch Size\n",
        "                100 # Epoch Count\n",
        "                )\n",
        "\n",
        "print(\"history keys: \", history.history.keys())\n",
        "# ============== Evaluation of the model with actual instances ==============\n",
        "\n",
        "print(\"Performance when using actual testing instances\")\n",
        "predictions = mlp_model_eval(X_test, Y_test, history, 1)\n",
        "plot_acc(Y_test, history, 1)\n",
        "plot_loss(Y_test, history, 1)\n",
        "plot_roc(Y_test, predictions, 1)"
      ],
      "metadata": {
        "colab": {
          "base_uri": "https://localhost:8080/",
          "height": 1000
        },
        "id": "WCJTu9wwO9zd",
        "outputId": "3641fab6-bd44-4d26-ce6d-2a7172ce17ab",
        "collapsed": true
      },
      "execution_count": 13,
      "outputs": [
        {
          "output_type": "stream",
          "name": "stdout",
          "text": [
            "X_train: \n",
            " <class 'numpy.ndarray'> [[1.095900e-02 4.704205e-01 1.000000e+00 ... 4.800000e-05 0.000000e+00\n",
            "  1.000000e+00]\n",
            " [1.095900e-02 8.662545e-01 1.000000e+00 ... 4.244500e-03 0.000000e+00\n",
            "  1.000000e+00]\n",
            " [1.472600e-02 1.304495e-01 1.000000e+00 ... 0.000000e+00 0.000000e+00\n",
            "  0.000000e+00]\n",
            " ...\n",
            " [1.794520e-01 8.447700e-01 0.000000e+00 ... 0.000000e+00 0.000000e+00\n",
            "  0.000000e+00]\n",
            " [0.000000e+00 7.277945e-01 0.000000e+00 ... 2.400000e-05 0.000000e+00\n",
            "  0.000000e+00]\n",
            " [8.219000e-03 7.155260e-01 1.000000e+00 ... 0.000000e+00 0.000000e+00\n",
            "  0.000000e+00]]\n",
            "Y_train: \n",
            " <class 'numpy.ndarray'> [[1]\n",
            " [1]\n",
            " [0]\n",
            " ...\n",
            " [0]\n",
            " [1]\n",
            " [0]]\n",
            "Epoch 1/100\n",
            "\u001b[1m207/207\u001b[0m \u001b[32m━━━━━━━━━━━━━━━━━━━━\u001b[0m\u001b[37m\u001b[0m \u001b[1m5s\u001b[0m 8ms/step - accuracy: 0.8280 - loss: 0.4826 - val_accuracy: 0.9932 - val_loss: 0.0538\n",
            "Epoch 2/100\n",
            "\u001b[1m207/207\u001b[0m \u001b[32m━━━━━━━━━━━━━━━━━━━━\u001b[0m\u001b[37m\u001b[0m \u001b[1m2s\u001b[0m 7ms/step - accuracy: 0.9936 - loss: 0.0390 - val_accuracy: 0.9952 - val_loss: 0.0257\n",
            "Epoch 3/100\n",
            "\u001b[1m207/207\u001b[0m \u001b[32m━━━━━━━━━━━━━━━━━━━━\u001b[0m\u001b[37m\u001b[0m \u001b[1m1s\u001b[0m 3ms/step - accuracy: 0.9958 - loss: 0.0207 - val_accuracy: 0.9952 - val_loss: 0.0194\n",
            "Epoch 4/100\n",
            "\u001b[1m207/207\u001b[0m \u001b[32m━━━━━━━━━━━━━━━━━━━━\u001b[0m\u001b[37m\u001b[0m \u001b[1m1s\u001b[0m 3ms/step - accuracy: 0.9968 - loss: 0.0157 - val_accuracy: 0.9959 - val_loss: 0.0156\n",
            "Epoch 5/100\n",
            "\u001b[1m207/207\u001b[0m \u001b[32m━━━━━━━━━━━━━━━━━━━━\u001b[0m\u001b[37m\u001b[0m \u001b[1m1s\u001b[0m 3ms/step - accuracy: 0.9970 - loss: 0.0131 - val_accuracy: 0.9959 - val_loss: 0.0133\n",
            "Epoch 6/100\n",
            "\u001b[1m207/207\u001b[0m \u001b[32m━━━━━━━━━━━━━━━━━━━━\u001b[0m\u001b[37m\u001b[0m \u001b[1m1s\u001b[0m 4ms/step - accuracy: 0.9971 - loss: 0.0116 - val_accuracy: 0.9966 - val_loss: 0.0119\n",
            "Epoch 7/100\n",
            "\u001b[1m207/207\u001b[0m \u001b[32m━━━━━━━━━━━━━━━━━━━━\u001b[0m\u001b[37m\u001b[0m \u001b[1m1s\u001b[0m 4ms/step - accuracy: 0.9971 - loss: 0.0106 - val_accuracy: 0.9966 - val_loss: 0.0109\n",
            "Epoch 8/100\n",
            "\u001b[1m207/207\u001b[0m \u001b[32m━━━━━━━━━━━━━━━━━━━━\u001b[0m\u001b[37m\u001b[0m \u001b[1m1s\u001b[0m 4ms/step - accuracy: 0.9973 - loss: 0.0099 - val_accuracy: 0.9966 - val_loss: 0.0103\n",
            "Epoch 9/100\n",
            "\u001b[1m207/207\u001b[0m \u001b[32m━━━━━━━━━━━━━━━━━━━━\u001b[0m\u001b[37m\u001b[0m \u001b[1m1s\u001b[0m 4ms/step - accuracy: 0.9973 - loss: 0.0093 - val_accuracy: 0.9966 - val_loss: 0.0102\n",
            "Epoch 10/100\n",
            "\u001b[1m207/207\u001b[0m \u001b[32m━━━━━━━━━━━━━━━━━━━━\u001b[0m\u001b[37m\u001b[0m \u001b[1m1s\u001b[0m 3ms/step - accuracy: 0.9973 - loss: 0.0089 - val_accuracy: 0.9966 - val_loss: 0.0104\n",
            "Epoch 11/100\n",
            "\u001b[1m207/207\u001b[0m \u001b[32m━━━━━━━━━━━━━━━━━━━━\u001b[0m\u001b[37m\u001b[0m \u001b[1m1s\u001b[0m 3ms/step - accuracy: 0.9973 - loss: 0.0086 - val_accuracy: 0.9973 - val_loss: 0.0112\n",
            "{'accuracy': [0.9328782558441162, 0.9940841794013977, 0.9958285689353943, 0.9965111613273621, 0.9967387318611145, 0.9968145489692688, 0.9968904256820679, 0.9969662427902222, 0.9970421195030212, 0.9971179366111755, 0.9971179366111755], 'loss': [0.29779624938964844, 0.03308764845132828, 0.020719220861792564, 0.01654844917356968, 0.014332554303109646, 0.013064571656286716, 0.01216525211930275, 0.011505975387990475, 0.010979244485497475, 0.010557212866842747, 0.010185539722442627], 'val_accuracy': [0.9931787252426147, 0.9952251315116882, 0.9952251315116882, 0.9959072470664978, 0.9959072470664978, 0.9965893626213074, 0.9965893626213074, 0.9965893626213074, 0.9965893626213074, 0.9965893626213074, 0.9972714781761169], 'val_loss': [0.053812164813280106, 0.025748668238520622, 0.019352979958057404, 0.01562698744237423, 0.013326378539204597, 0.011893331073224545, 0.010934568010270596, 0.010317993350327015, 0.010158641263842583, 0.01036462839692831, 0.01117002684623003]}\n"
          ]
        },
        {
          "output_type": "display_data",
          "data": {
            "text/plain": [
              "\u001b[1mModel: \"sequential\"\u001b[0m\n"
            ],
            "text/html": [
              "<pre style=\"white-space:pre;overflow-x:auto;line-height:normal;font-family:Menlo,'DejaVu Sans Mono',consolas,'Courier New',monospace\"><span style=\"font-weight: bold\">Model: \"sequential\"</span>\n",
              "</pre>\n"
            ]
          },
          "metadata": {}
        },
        {
          "output_type": "display_data",
          "data": {
            "text/plain": [
              "┏━━━━━━━━━━━━━━━━━━━━━━━━━━━━━━━━━┳━━━━━━━━━━━━━━━━━━━━━━━━┳━━━━━━━━━━━━━━━┓\n",
              "┃\u001b[1m \u001b[0m\u001b[1mLayer (type)                   \u001b[0m\u001b[1m \u001b[0m┃\u001b[1m \u001b[0m\u001b[1mOutput Shape          \u001b[0m\u001b[1m \u001b[0m┃\u001b[1m \u001b[0m\u001b[1m      Param #\u001b[0m\u001b[1m \u001b[0m┃\n",
              "┡━━━━━━━━━━━━━━━━━━━━━━━━━━━━━━━━━╇━━━━━━━━━━━━━━━━━━━━━━━━╇━━━━━━━━━━━━━━━┩\n",
              "│ dense (\u001b[38;5;33mDense\u001b[0m)                   │ (\u001b[38;5;45mNone\u001b[0m, \u001b[38;5;34m22\u001b[0m)             │           \u001b[38;5;34m968\u001b[0m │\n",
              "├─────────────────────────────────┼────────────────────────┼───────────────┤\n",
              "│ dense_1 (\u001b[38;5;33mDense\u001b[0m)                 │ (\u001b[38;5;45mNone\u001b[0m, \u001b[38;5;34m22\u001b[0m)             │           \u001b[38;5;34m506\u001b[0m │\n",
              "├─────────────────────────────────┼────────────────────────┼───────────────┤\n",
              "│ dense_2 (\u001b[38;5;33mDense\u001b[0m)                 │ (\u001b[38;5;45mNone\u001b[0m, \u001b[38;5;34m1\u001b[0m)              │            \u001b[38;5;34m23\u001b[0m │\n",
              "└─────────────────────────────────┴────────────────────────┴───────────────┘\n"
            ],
            "text/html": [
              "<pre style=\"white-space:pre;overflow-x:auto;line-height:normal;font-family:Menlo,'DejaVu Sans Mono',consolas,'Courier New',monospace\">┏━━━━━━━━━━━━━━━━━━━━━━━━━━━━━━━━━┳━━━━━━━━━━━━━━━━━━━━━━━━┳━━━━━━━━━━━━━━━┓\n",
              "┃<span style=\"font-weight: bold\"> Layer (type)                    </span>┃<span style=\"font-weight: bold\"> Output Shape           </span>┃<span style=\"font-weight: bold\">       Param # </span>┃\n",
              "┡━━━━━━━━━━━━━━━━━━━━━━━━━━━━━━━━━╇━━━━━━━━━━━━━━━━━━━━━━━━╇━━━━━━━━━━━━━━━┩\n",
              "│ dense (<span style=\"color: #0087ff; text-decoration-color: #0087ff\">Dense</span>)                   │ (<span style=\"color: #00d7ff; text-decoration-color: #00d7ff\">None</span>, <span style=\"color: #00af00; text-decoration-color: #00af00\">22</span>)             │           <span style=\"color: #00af00; text-decoration-color: #00af00\">968</span> │\n",
              "├─────────────────────────────────┼────────────────────────┼───────────────┤\n",
              "│ dense_1 (<span style=\"color: #0087ff; text-decoration-color: #0087ff\">Dense</span>)                 │ (<span style=\"color: #00d7ff; text-decoration-color: #00d7ff\">None</span>, <span style=\"color: #00af00; text-decoration-color: #00af00\">22</span>)             │           <span style=\"color: #00af00; text-decoration-color: #00af00\">506</span> │\n",
              "├─────────────────────────────────┼────────────────────────┼───────────────┤\n",
              "│ dense_2 (<span style=\"color: #0087ff; text-decoration-color: #0087ff\">Dense</span>)                 │ (<span style=\"color: #00d7ff; text-decoration-color: #00d7ff\">None</span>, <span style=\"color: #00af00; text-decoration-color: #00af00\">1</span>)              │            <span style=\"color: #00af00; text-decoration-color: #00af00\">23</span> │\n",
              "└─────────────────────────────────┴────────────────────────┴───────────────┘\n",
              "</pre>\n"
            ]
          },
          "metadata": {}
        },
        {
          "output_type": "display_data",
          "data": {
            "text/plain": [
              "\u001b[1m Total params: \u001b[0m\u001b[38;5;34m4,493\u001b[0m (17.55 KB)\n"
            ],
            "text/html": [
              "<pre style=\"white-space:pre;overflow-x:auto;line-height:normal;font-family:Menlo,'DejaVu Sans Mono',consolas,'Courier New',monospace\"><span style=\"font-weight: bold\"> Total params: </span><span style=\"color: #00af00; text-decoration-color: #00af00\">4,493</span> (17.55 KB)\n",
              "</pre>\n"
            ]
          },
          "metadata": {}
        },
        {
          "output_type": "display_data",
          "data": {
            "text/plain": [
              "\u001b[1m Trainable params: \u001b[0m\u001b[38;5;34m1,497\u001b[0m (5.85 KB)\n"
            ],
            "text/html": [
              "<pre style=\"white-space:pre;overflow-x:auto;line-height:normal;font-family:Menlo,'DejaVu Sans Mono',consolas,'Courier New',monospace\"><span style=\"font-weight: bold\"> Trainable params: </span><span style=\"color: #00af00; text-decoration-color: #00af00\">1,497</span> (5.85 KB)\n",
              "</pre>\n"
            ]
          },
          "metadata": {}
        },
        {
          "output_type": "display_data",
          "data": {
            "text/plain": [
              "\u001b[1m Non-trainable params: \u001b[0m\u001b[38;5;34m0\u001b[0m (0.00 B)\n"
            ],
            "text/html": [
              "<pre style=\"white-space:pre;overflow-x:auto;line-height:normal;font-family:Menlo,'DejaVu Sans Mono',consolas,'Courier New',monospace\"><span style=\"font-weight: bold\"> Non-trainable params: </span><span style=\"color: #00af00; text-decoration-color: #00af00\">0</span> (0.00 B)\n",
              "</pre>\n"
            ]
          },
          "metadata": {}
        },
        {
          "output_type": "display_data",
          "data": {
            "text/plain": [
              "\u001b[1m Optimizer params: \u001b[0m\u001b[38;5;34m2,996\u001b[0m (11.71 KB)\n"
            ],
            "text/html": [
              "<pre style=\"white-space:pre;overflow-x:auto;line-height:normal;font-family:Menlo,'DejaVu Sans Mono',consolas,'Courier New',monospace\"><span style=\"font-weight: bold\"> Optimizer params: </span><span style=\"color: #00af00; text-decoration-color: #00af00\">2,996</span> (11.71 KB)\n",
              "</pre>\n"
            ]
          },
          "metadata": {}
        },
        {
          "output_type": "stream",
          "name": "stdout",
          "text": [
            "None\n",
            "history keys:  dict_keys(['accuracy', 'loss', 'val_accuracy', 'val_loss'])\n",
            "Performance when using actual testing instances\n",
            "\u001b[1m115/115\u001b[0m \u001b[32m━━━━━━━━━━━━━━━━━━━━\u001b[0m\u001b[37m\u001b[0m \u001b[1m0s\u001b[0m 2ms/step\n",
            "classification_report\n",
            "               precision    recall  f1-score   support\n",
            "\n",
            "           0     0.9978    0.9967    0.9973      1832\n",
            "           1     0.9967    0.9978    0.9973      1831\n",
            "\n",
            "    accuracy                         0.9973      3663\n",
            "   macro avg     0.9973    0.9973    0.9973      3663\n",
            "weighted avg     0.9973    0.9973    0.9973      3663\n",
            "\n",
            "Confusion Matrix:\n",
            " [[1826    6]\n",
            " [   4 1827]]\n",
            "labels =  None\n"
          ]
        },
        {
          "output_type": "display_data",
          "data": {
            "text/plain": [
              "<Figure size 640x480 with 2 Axes>"
            ],
            "image/png": "[encoded data removed]"
          },
          "metadata": {}
        },
        {
          "output_type": "stream",
          "name": "stdout",
          "text": [
            "Accuracy:  0.9972699972699973\n",
            "F1:  0.9972707423580786\n",
            "Precison:  0.9967266775777414\n",
            "Recall:  0.997815401419989\n"
          ]
        },
        {
          "output_type": "display_data",
          "data": {
            "text/plain": [
              "<Figure size 1200x1000 with 1 Axes>"
            ],
            "image/png": "[encoded data removed]"
          },
          "metadata": {}
        },
        {
          "output_type": "stream",
          "name": "stderr",
          "text": [
            "WARNING:matplotlib.backends.backend_ps:The PostScript backend does not support transparency; partially transparent artists will be rendered opaque.\n"
          ]
        },
        {
          "output_type": "display_data",
          "data": {
            "text/plain": [
              "<Figure size 640x480 with 0 Axes>"
            ]
          },
          "metadata": {}
        },
        {
          "output_type": "display_data",
          "data": {
            "text/plain": [
              "<Figure size 1200x1000 with 1 Axes>"
            ],
            "image/png": "[encoded data removed]"
          },
          "metadata": {}
        },
        {
          "output_type": "stream",
          "name": "stderr",
          "text": [
            "WARNING:matplotlib.backends.backend_ps:The PostScript backend does not support transparency; partially transparent artists will be rendered opaque.\n"
          ]
        },
        {
          "output_type": "display_data",
          "data": {
            "text/plain": [
              "<Figure size 640x480 with 0 Axes>"
            ]
          },
          "metadata": {}
        },
        {
          "output_type": "display_data",
          "data": {
            "text/plain": [
              "<Figure size 1200x1000 with 1 Axes>"
            ],
            "image/png": "[encoded data removed]"
          },
          "metadata": {}
        },
        {
          "output_type": "stream",
          "name": "stderr",
          "text": [
            "WARNING:matplotlib.backends.backend_ps:The PostScript backend does not support transparency; partially transparent artists will be rendered opaque.\n"
          ]
        }
      ]
    },
    {
      "cell_type": "markdown",
      "source": [
        "### Generate adversarial samples for all test datapoints (JSMA)"
      ],
      "metadata": {
        "id": "9-n63dccFoYe"
      }
    },
    {
      "cell_type": "code",
      "source": [
        "from art.attacks.evasion import SaliencyMapMethod\n",
        "from art.estimators.classification import KerasClassifier"
      ],
      "metadata": {
        "id": "V6pbMa7lxKHR"
      },
      "execution_count": 14,
      "outputs": []
    },
    {
      "cell_type": "code",
      "source": [
        "batch_size = 32\n",
        "# 1) Ensure inputs are float32 in [0, 1]\n",
        "X_test = X_test.astype(\"float32\")\n",
        "\n",
        "# 2) Wrap binary model to expose two outputs [1 - p, p]\n",
        "inp = Input(shape=X_test.shape[1:], dtype=tf.float32)\n",
        "raw = model(inp)  # builds the Sequential if it wasn't called yet\n",
        "\n",
        "# Determine output width robustly\n",
        "n_out = raw.shape[-1] if hasattr(raw, \"shape\") else tf.keras.backend.int_shape(raw)[-1]\n",
        "\n",
        "if n_out == 1:\n",
        "    # If last activation is linear, add sigmoid; otherwise assume it's already sigmoid\n",
        "    last_act = getattr(model.layers[-1], \"activation\", tf.keras.activations.linear)\n",
        "    p = tf.keras.activations.sigmoid(raw) if last_act == tf.keras.activations.linear else raw\n",
        "    two = Concatenate(axis=-1)([Lambda(lambda t: 1.0 - t)(p), p])  # shape: (None, 2)\n",
        "else:\n",
        "    # Already multi-class; keep as-is\n",
        "    two = raw\n",
        "\n",
        "wrapped_model = Model(inputs=inp, outputs=two)\n",
        "\n",
        "# 3) ART classifier: FORCE nb_classes=2 so JSMA never sees a single class\n",
        "classifier = KerasClassifier(model=wrapped_model,\n",
        "                             clip_values=(0.0, 1.0))\n",
        "\n",
        "# 4) JSMA attack\n",
        "attack = SaliencyMapMethod(classifier=classifier, theta=1.0, gamma=0.1, verbose=False)\n",
        "\n",
        "# 5) Target vector: class 1 (shape (1, 2))\n",
        "y_target_vec = np.array([[0.0, 1.0]], dtype=np.float32)\n",
        "\n",
        "# 6) Build adversarials: modify only class-0 samples; leave class-1 unchanged\n",
        "# indices of samples whose true class == 0\n",
        "def label_to_class(y):\n",
        "    if np.ndim(y) == 0 or (np.ndim(y) == 1 and y.shape[0] == 1):\n",
        "        return int(y)\n",
        "    return int(np.argmax(y))\n",
        "\n",
        "true_classes = np.array([label_to_class(y) for y in Y_test], dtype=int)\n",
        "indices_to_attack = np.where(true_classes == 0)[0]\n",
        "X_adv = X_test.copy()\n",
        "for start in tqdm(range(0, len(indices_to_attack), batch_size)):\n",
        "    print()\n",
        "    # if i > 100:\n",
        "    #   break\n",
        "    # Accept scalar labels or one-hot labels\n",
        "    batch_inds = indices_to_attack[start:start + batch_size]\n",
        "    x_batch = X_test[batch_inds].astype(np.float32)            # shape: (B, ...)\n",
        "    y_batch = np.tile(y_target_vec, (x_batch.shape[0], 1)).astype(np.float32)  # shape: (B, nb_classes)\n",
        "\n",
        "    adv_batch = attack.generate(x=x_batch, y=y_batch)          # returns (B, ...)\n",
        "    X_adv[batch_inds] = adv_batch\n"
      ],
      "metadata": {
        "colab": {
          "base_uri": "https://localhost:8080/"
        },
        "id": "l_4rbcEGMYwQ",
        "outputId": "c7921c8f-da29-4d0f-9cb0-3e33950465b4"
      },
      "execution_count": 15,
      "outputs": [
        {
          "output_type": "stream",
          "name": "stderr",
          "text": [
            "/tmp/ipython-input-1965463947.py:37: DeprecationWarning: Conversion of an array with ndim > 0 to a scalar is deprecated, and will error in future. Ensure you extract a single element from your array before performing this operation. (Deprecated NumPy 1.25.)\n",
            "  return int(y)\n",
            "  0%|          | 0/58 [00:00<?, ?it/s]"
          ]
        },
        {
          "output_type": "stream",
          "name": "stdout",
          "text": [
            "\n"
          ]
        },
        {
          "output_type": "stream",
          "name": "stderr",
          "text": [
            "WARNING:tensorflow:5 out of the last 5 calls to <function pfor.<locals>.f at 0x7fe7ad0d6e80> triggered tf.function retracing. Tracing is expensive and the excessive number of tracings could be due to (1) creating @tf.function repeatedly in a loop, (2) passing tensors with different shapes, (3) passing Python objects instead of tensors. For (1), please define your @tf.function outside of the loop. For (2), @tf.function has reduce_retracing=True option that can avoid unnecessary retracing. For (3), please refer to https://www.tensorflow.org/guide/function#controlling_retracing and https://www.tensorflow.org/api_docs/python/tf/function for  more details.\n",
            "WARNING:tensorflow:6 out of the last 6 calls to <function pfor.<locals>.f at 0x7fe7ad0d6fc0> triggered tf.function retracing. Tracing is expensive and the excessive number of tracings could be due to (1) creating @tf.function repeatedly in a loop, (2) passing tensors with different shapes, (3) passing Python objects instead of tensors. For (1), please define your @tf.function outside of the loop. For (2), @tf.function has reduce_retracing=True option that can avoid unnecessary retracing. For (3), please refer to https://www.tensorflow.org/guide/function#controlling_retracing and https://www.tensorflow.org/api_docs/python/tf/function for  more details.\n",
            "  2%|▏         | 1/58 [00:08<08:16,  8.71s/it]"
          ]
        },
        {
          "output_type": "stream",
          "name": "stdout",
          "text": [
            "\n"
          ]
        },
        {
          "output_type": "stream",
          "name": "stderr",
          "text": [
            "\r  3%|▎         | 2/58 [00:15<07:16,  7.80s/it]"
          ]
        },
        {
          "output_type": "stream",
          "name": "stdout",
          "text": [
            "\n"
          ]
        },
        {
          "output_type": "stream",
          "name": "stderr",
          "text": [
            "\r  5%|▌         | 3/58 [00:22<06:50,  7.47s/it]"
          ]
        },
        {
          "output_type": "stream",
          "name": "stdout",
          "text": [
            "\n"
          ]
        },
        {
          "output_type": "stream",
          "name": "stderr",
          "text": [
            "\r  7%|▋         | 4/58 [00:30<06:38,  7.38s/it]"
          ]
        },
        {
          "output_type": "stream",
          "name": "stdout",
          "text": [
            "\n"
          ]
        },
        {
          "output_type": "stream",
          "name": "stderr",
          "text": [
            "\r  9%|▊         | 5/58 [00:37<06:32,  7.40s/it]"
          ]
        },
        {
          "output_type": "stream",
          "name": "stdout",
          "text": [
            "\n"
          ]
        },
        {
          "output_type": "stream",
          "name": "stderr",
          "text": [
            "\r 10%|█         | 6/58 [00:44<06:14,  7.20s/it]"
          ]
        },
        {
          "output_type": "stream",
          "name": "stdout",
          "text": [
            "\n"
          ]
        },
        {
          "output_type": "stream",
          "name": "stderr",
          "text": [
            "\r 12%|█▏        | 7/58 [00:52<06:19,  7.44s/it]"
          ]
        },
        {
          "output_type": "stream",
          "name": "stdout",
          "text": [
            "\n"
          ]
        },
        {
          "output_type": "stream",
          "name": "stderr",
          "text": [
            "\r 14%|█▍        | 8/58 [00:58<05:58,  7.16s/it]"
          ]
        },
        {
          "output_type": "stream",
          "name": "stdout",
          "text": [
            "\n"
          ]
        },
        {
          "output_type": "stream",
          "name": "stderr",
          "text": [
            "\r 16%|█▌        | 9/58 [01:07<06:18,  7.73s/it]"
          ]
        },
        {
          "output_type": "stream",
          "name": "stdout",
          "text": [
            "\n"
          ]
        },
        {
          "output_type": "stream",
          "name": "stderr",
          "text": [
            "\r 17%|█▋        | 10/58 [01:14<05:51,  7.33s/it]"
          ]
        },
        {
          "output_type": "stream",
          "name": "stdout",
          "text": [
            "\n"
          ]
        },
        {
          "output_type": "stream",
          "name": "stderr",
          "text": [
            "\r 19%|█▉        | 11/58 [01:22<05:57,  7.61s/it]"
          ]
        },
        {
          "output_type": "stream",
          "name": "stdout",
          "text": [
            "\n"
          ]
        },
        {
          "output_type": "stream",
          "name": "stderr",
          "text": [
            "\r 21%|██        | 12/58 [01:29<05:35,  7.29s/it]"
          ]
        },
        {
          "output_type": "stream",
          "name": "stdout",
          "text": [
            "\n"
          ]
        },
        {
          "output_type": "stream",
          "name": "stderr",
          "text": [
            "\r 22%|██▏       | 13/58 [01:36<05:31,  7.37s/it]"
          ]
        },
        {
          "output_type": "stream",
          "name": "stdout",
          "text": [
            "\n"
          ]
        },
        {
          "output_type": "stream",
          "name": "stderr",
          "text": [
            "\r 24%|██▍       | 14/58 [01:43<05:11,  7.07s/it]"
          ]
        },
        {
          "output_type": "stream",
          "name": "stdout",
          "text": [
            "\n"
          ]
        },
        {
          "output_type": "stream",
          "name": "stderr",
          "text": [
            "\r 26%|██▌       | 15/58 [01:50<05:09,  7.20s/it]"
          ]
        },
        {
          "output_type": "stream",
          "name": "stdout",
          "text": [
            "\n"
          ]
        },
        {
          "output_type": "stream",
          "name": "stderr",
          "text": [
            "\r 28%|██▊       | 16/58 [01:57<04:52,  6.97s/it]"
          ]
        },
        {
          "output_type": "stream",
          "name": "stdout",
          "text": [
            "\n"
          ]
        },
        {
          "output_type": "stream",
          "name": "stderr",
          "text": [
            "\r 29%|██▉       | 17/58 [02:04<04:56,  7.24s/it]"
          ]
        },
        {
          "output_type": "stream",
          "name": "stdout",
          "text": [
            "\n"
          ]
        },
        {
          "output_type": "stream",
          "name": "stderr",
          "text": [
            "\r 31%|███       | 18/58 [02:11<04:40,  7.02s/it]"
          ]
        },
        {
          "output_type": "stream",
          "name": "stdout",
          "text": [
            "\n"
          ]
        },
        {
          "output_type": "stream",
          "name": "stderr",
          "text": [
            "\r 33%|███▎      | 19/58 [02:18<04:39,  7.16s/it]"
          ]
        },
        {
          "output_type": "stream",
          "name": "stdout",
          "text": [
            "\n"
          ]
        },
        {
          "output_type": "stream",
          "name": "stderr",
          "text": [
            "\r 34%|███▍      | 20/58 [02:25<04:26,  7.01s/it]"
          ]
        },
        {
          "output_type": "stream",
          "name": "stdout",
          "text": [
            "\n"
          ]
        },
        {
          "output_type": "stream",
          "name": "stderr",
          "text": [
            "\r 36%|███▌      | 21/58 [02:32<04:22,  7.11s/it]"
          ]
        },
        {
          "output_type": "stream",
          "name": "stdout",
          "text": [
            "\n"
          ]
        },
        {
          "output_type": "stream",
          "name": "stderr",
          "text": [
            "\r 38%|███▊      | 22/58 [02:40<04:25,  7.37s/it]"
          ]
        },
        {
          "output_type": "stream",
          "name": "stdout",
          "text": [
            "\n"
          ]
        },
        {
          "output_type": "stream",
          "name": "stderr",
          "text": [
            "\r 40%|███▉      | 23/58 [02:47<04:11,  7.19s/it]"
          ]
        },
        {
          "output_type": "stream",
          "name": "stdout",
          "text": [
            "\n"
          ]
        },
        {
          "output_type": "stream",
          "name": "stderr",
          "text": [
            "\r 41%|████▏     | 24/58 [02:54<04:03,  7.17s/it]"
          ]
        },
        {
          "output_type": "stream",
          "name": "stdout",
          "text": [
            "\n"
          ]
        },
        {
          "output_type": "stream",
          "name": "stderr",
          "text": [
            "\r 43%|████▎     | 25/58 [03:01<03:52,  7.03s/it]"
          ]
        },
        {
          "output_type": "stream",
          "name": "stdout",
          "text": [
            "\n"
          ]
        },
        {
          "output_type": "stream",
          "name": "stderr",
          "text": [
            "\r 45%|████▍     | 26/58 [03:08<03:46,  7.09s/it]"
          ]
        },
        {
          "output_type": "stream",
          "name": "stdout",
          "text": [
            "\n"
          ]
        },
        {
          "output_type": "stream",
          "name": "stderr",
          "text": [
            "\r 47%|████▋     | 27/58 [03:15<03:35,  6.96s/it]"
          ]
        },
        {
          "output_type": "stream",
          "name": "stdout",
          "text": [
            "\n"
          ]
        },
        {
          "output_type": "stream",
          "name": "stderr",
          "text": [
            "\r 48%|████▊     | 28/58 [03:22<03:32,  7.09s/it]"
          ]
        },
        {
          "output_type": "stream",
          "name": "stdout",
          "text": [
            "\n"
          ]
        },
        {
          "output_type": "stream",
          "name": "stderr",
          "text": [
            "\r 50%|█████     | 29/58 [03:29<03:19,  6.89s/it]"
          ]
        },
        {
          "output_type": "stream",
          "name": "stdout",
          "text": [
            "\n"
          ]
        },
        {
          "output_type": "stream",
          "name": "stderr",
          "text": [
            "\r 52%|█████▏    | 30/58 [03:36<03:15,  6.98s/it]"
          ]
        },
        {
          "output_type": "stream",
          "name": "stdout",
          "text": [
            "\n"
          ]
        },
        {
          "output_type": "stream",
          "name": "stderr",
          "text": [
            "\r 53%|█████▎    | 31/58 [03:43<03:07,  6.94s/it]"
          ]
        },
        {
          "output_type": "stream",
          "name": "stdout",
          "text": [
            "\n"
          ]
        },
        {
          "output_type": "stream",
          "name": "stderr",
          "text": [
            "\r 55%|█████▌    | 32/58 [03:50<03:06,  7.18s/it]"
          ]
        },
        {
          "output_type": "stream",
          "name": "stdout",
          "text": [
            "\n"
          ]
        },
        {
          "output_type": "stream",
          "name": "stderr",
          "text": [
            "\r 57%|█████▋    | 33/58 [03:58<02:59,  7.19s/it]"
          ]
        },
        {
          "output_type": "stream",
          "name": "stdout",
          "text": [
            "\n"
          ]
        },
        {
          "output_type": "stream",
          "name": "stderr",
          "text": [
            "\r 59%|█████▊    | 34/58 [04:05<02:55,  7.33s/it]"
          ]
        },
        {
          "output_type": "stream",
          "name": "stdout",
          "text": [
            "\n"
          ]
        },
        {
          "output_type": "stream",
          "name": "stderr",
          "text": [
            "\r 60%|██████    | 35/58 [04:12<02:41,  7.02s/it]"
          ]
        },
        {
          "output_type": "stream",
          "name": "stdout",
          "text": [
            "\n"
          ]
        },
        {
          "output_type": "stream",
          "name": "stderr",
          "text": [
            "\r 62%|██████▏   | 36/58 [04:19<02:39,  7.23s/it]"
          ]
        },
        {
          "output_type": "stream",
          "name": "stdout",
          "text": [
            "\n"
          ]
        },
        {
          "output_type": "stream",
          "name": "stderr",
          "text": [
            "\r 64%|██████▍   | 37/58 [04:26<02:27,  7.04s/it]"
          ]
        },
        {
          "output_type": "stream",
          "name": "stdout",
          "text": [
            "\n"
          ]
        },
        {
          "output_type": "stream",
          "name": "stderr",
          "text": [
            "\r 66%|██████▌   | 38/58 [04:34<02:25,  7.28s/it]"
          ]
        },
        {
          "output_type": "stream",
          "name": "stdout",
          "text": [
            "\n"
          ]
        },
        {
          "output_type": "stream",
          "name": "stderr",
          "text": [
            "\r 67%|██████▋   | 39/58 [04:40<02:14,  7.09s/it]"
          ]
        },
        {
          "output_type": "stream",
          "name": "stdout",
          "text": [
            "\n"
          ]
        },
        {
          "output_type": "stream",
          "name": "stderr",
          "text": [
            "\r 69%|██████▉   | 40/58 [04:48<02:10,  7.25s/it]"
          ]
        },
        {
          "output_type": "stream",
          "name": "stdout",
          "text": [
            "\n"
          ]
        },
        {
          "output_type": "stream",
          "name": "stderr",
          "text": [
            "\r 71%|███████   | 41/58 [04:54<01:58,  6.98s/it]"
          ]
        },
        {
          "output_type": "stream",
          "name": "stdout",
          "text": [
            "\n"
          ]
        },
        {
          "output_type": "stream",
          "name": "stderr",
          "text": [
            "\r 72%|███████▏  | 42/58 [05:02<01:54,  7.18s/it]"
          ]
        },
        {
          "output_type": "stream",
          "name": "stdout",
          "text": [
            "\n"
          ]
        },
        {
          "output_type": "stream",
          "name": "stderr",
          "text": [
            "\r 74%|███████▍  | 43/58 [05:08<01:44,  6.95s/it]"
          ]
        },
        {
          "output_type": "stream",
          "name": "stdout",
          "text": [
            "\n"
          ]
        },
        {
          "output_type": "stream",
          "name": "stderr",
          "text": [
            "\r 76%|███████▌  | 44/58 [05:17<01:42,  7.33s/it]"
          ]
        },
        {
          "output_type": "stream",
          "name": "stdout",
          "text": [
            "\n"
          ]
        },
        {
          "output_type": "stream",
          "name": "stderr",
          "text": [
            "\r 78%|███████▊  | 45/58 [05:24<01:33,  7.22s/it]"
          ]
        },
        {
          "output_type": "stream",
          "name": "stdout",
          "text": [
            "\n"
          ]
        },
        {
          "output_type": "stream",
          "name": "stderr",
          "text": [
            "\r 79%|███████▉  | 46/58 [05:31<01:27,  7.25s/it]"
          ]
        },
        {
          "output_type": "stream",
          "name": "stdout",
          "text": [
            "\n"
          ]
        },
        {
          "output_type": "stream",
          "name": "stderr",
          "text": [
            "\r 81%|████████  | 47/58 [05:38<01:19,  7.20s/it]"
          ]
        },
        {
          "output_type": "stream",
          "name": "stdout",
          "text": [
            "\n"
          ]
        },
        {
          "output_type": "stream",
          "name": "stderr",
          "text": [
            "\r 83%|████████▎ | 48/58 [05:45<01:11,  7.19s/it]"
          ]
        },
        {
          "output_type": "stream",
          "name": "stdout",
          "text": [
            "\n"
          ]
        },
        {
          "output_type": "stream",
          "name": "stderr",
          "text": [
            "\r 84%|████████▍ | 49/58 [05:52<01:04,  7.18s/it]"
          ]
        },
        {
          "output_type": "stream",
          "name": "stdout",
          "text": [
            "\n"
          ]
        },
        {
          "output_type": "stream",
          "name": "stderr",
          "text": [
            "\r 86%|████████▌ | 50/58 [05:59<00:57,  7.13s/it]"
          ]
        },
        {
          "output_type": "stream",
          "name": "stdout",
          "text": [
            "\n"
          ]
        },
        {
          "output_type": "stream",
          "name": "stderr",
          "text": [
            "\r 88%|████████▊ | 51/58 [06:07<00:51,  7.38s/it]"
          ]
        },
        {
          "output_type": "stream",
          "name": "stdout",
          "text": [
            "\n"
          ]
        },
        {
          "output_type": "stream",
          "name": "stderr",
          "text": [
            "\r 90%|████████▉ | 52/58 [06:14<00:42,  7.12s/it]"
          ]
        },
        {
          "output_type": "stream",
          "name": "stdout",
          "text": [
            "\n"
          ]
        },
        {
          "output_type": "stream",
          "name": "stderr",
          "text": [
            "\r 91%|█████████▏| 53/58 [06:22<00:36,  7.30s/it]"
          ]
        },
        {
          "output_type": "stream",
          "name": "stdout",
          "text": [
            "\n"
          ]
        },
        {
          "output_type": "stream",
          "name": "stderr",
          "text": [
            "\r 93%|█████████▎| 54/58 [06:29<00:28,  7.25s/it]"
          ]
        },
        {
          "output_type": "stream",
          "name": "stdout",
          "text": [
            "\n"
          ]
        },
        {
          "output_type": "stream",
          "name": "stderr",
          "text": [
            "\r 95%|█████████▍| 55/58 [06:37<00:22,  7.59s/it]"
          ]
        },
        {
          "output_type": "stream",
          "name": "stdout",
          "text": [
            "\n"
          ]
        },
        {
          "output_type": "stream",
          "name": "stderr",
          "text": [
            "\r 97%|█████████▋| 56/58 [06:44<00:14,  7.26s/it]"
          ]
        },
        {
          "output_type": "stream",
          "name": "stdout",
          "text": [
            "\n"
          ]
        },
        {
          "output_type": "stream",
          "name": "stderr",
          "text": [
            "\r 98%|█████████▊| 57/58 [06:51<00:07,  7.39s/it]"
          ]
        },
        {
          "output_type": "stream",
          "name": "stdout",
          "text": [
            "\n"
          ]
        },
        {
          "output_type": "stream",
          "name": "stderr",
          "text": [
            "100%|██████████| 58/58 [06:53<00:00,  7.13s/it]\n"
          ]
        }
      ]
    },
    {
      "cell_type": "code",
      "source": [
        "# ============== Evaluation of the model with adversarial instances ==============\n",
        "\n",
        "print(\"Performance when using adversarial testing instances\")\n",
        "mlp_model_eval(X_adv, Y_test, history, 2)"
      ],
      "metadata": {
        "colab": {
          "base_uri": "https://localhost:8080/",
          "height": 908
        },
        "id": "Tmj98g6ju1mb",
        "outputId": "43725a37-a419-4929-9f20-438ec3408146"
      },
      "execution_count": 16,
      "outputs": [
        {
          "output_type": "stream",
          "name": "stdout",
          "text": [
            "Performance when using adversarial testing instances\n",
            "\u001b[1m115/115\u001b[0m \u001b[32m━━━━━━━━━━━━━━━━━━━━\u001b[0m\u001b[37m\u001b[0m \u001b[1m0s\u001b[0m 2ms/step\n",
            "classification_report\n",
            "               precision    recall  f1-score   support\n",
            "\n",
            "           0     0.0000    0.0000    0.0000      1832\n",
            "           1     0.4993    0.9978    0.6656      1831\n",
            "\n",
            "    accuracy                         0.4988      3663\n",
            "   macro avg     0.2497    0.4989    0.3328      3663\n",
            "weighted avg     0.2496    0.4988    0.3327      3663\n",
            "\n",
            "Confusion Matrix:\n",
            " [[   0 1832]\n",
            " [   4 1827]]\n",
            "labels =  None\n"
          ]
        },
        {
          "output_type": "display_data",
          "data": {
            "text/plain": [
              "<Figure size 640x480 with 2 Axes>"
            ],
            "image/png": "[encoded data removed]"
          },
          "metadata": {}
        },
        {
          "output_type": "stream",
          "name": "stdout",
          "text": [
            "Accuracy:  0.4987714987714988\n",
            "F1:  0.6655737704918033\n",
            "Precison:  0.4993167532112599\n",
            "Recall:  0.997815401419989\n"
          ]
        },
        {
          "output_type": "execute_result",
          "data": {
            "text/plain": [
              "array([[1],\n",
              "       [1],\n",
              "       [1],\n",
              "       ...,\n",
              "       [1],\n",
              "       [1],\n",
              "       [1]], dtype=int32)"
            ]
          },
          "metadata": {},
          "execution_count": 16
        }
      ]
    }
  ]
}